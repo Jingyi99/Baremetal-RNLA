{
 "cells": [
  {
   "cell_type": "code",
   "execution_count": 2,
   "metadata": {},
   "outputs": [
    {
     "name": "stdout",
     "output_type": "stream",
     "text": [
      "Matrix A:\n",
      "[[1 2]\n",
      " [3 4]\n",
      " [5 6]]\n",
      "\n",
      "Vector b:\n",
      "[7 8 9]\n",
      "\n",
      "Matrix Q:\n",
      "[[-0.16903085  0.89708523  0.40824829]\n",
      " [-0.50709255  0.27602622 -0.81649658]\n",
      " [-0.84515425 -0.34503278  0.40824829]]\n",
      "\n",
      "Matrix R:\n",
      "[[-5.91607978 -7.43735744]\n",
      " [ 0.          0.82807867]\n",
      " [ 0.          0.        ]]\n",
      "\n",
      "Least squares solution x:\n",
      "[-6.   6.5]\n"
     ]
    }
   ],
   "source": [
    "import numpy as np\n",
    "from scipy.linalg import qr\n",
    "\n",
    "# Example matrix A and vector b\n",
    "A = np.array([[1, 2], [3, 4], [5, 6]])\n",
    "b = np.array([7, 8, 9])\n",
    "\n",
    "# QR decomposition\n",
    "Q, R = qr(A)\n",
    "\n",
    "# Least squares solution\n",
    "x_ls = np.linalg.lstsq(A, b, rcond=None)[0]\n",
    "\n",
    "print(\"Matrix A:\")\n",
    "print(A)\n",
    "print(\"\\nVector b:\")\n",
    "print(b)\n",
    "print(\"\\nMatrix Q:\")\n",
    "print(Q)\n",
    "print(\"\\nMatrix R:\")\n",
    "print(R)\n",
    "print(\"\\nLeast squares solution x:\")\n",
    "print(x_ls)"
   ]
  },
  {
   "cell_type": "code",
   "execution_count": null,
   "metadata": {},
   "outputs": [
    {
     "name": "stdout",
     "output_type": "stream",
     "text": [
      "Matrix A:\n",
      "[[ 1  2  3]\n",
      " [ 4  5  6]\n",
      " [ 7  8  9]\n",
      " [10 11 12]]\n",
      "\n",
      "Vector b:\n",
      "[14 32 50 68]\n",
      "\n",
      "Matrix Q:\n",
      "[[-0.07761505 -0.83305216  0.5472782  -0.0220583 ]\n",
      " [-0.31046021 -0.45123659 -0.71326299  0.43732815]\n",
      " [-0.54330537 -0.06942101 -0.21530863 -0.80848141]\n",
      " [-0.77615053  0.31239456  0.38129342  0.39321156]]\n",
      "\n",
      "Matrix R:\n",
      "[[-1.28840987e+01 -1.45916299e+01 -1.62991610e+01]\n",
      " [ 0.00000000e+00 -1.04131520e+00 -2.08263040e+00]\n",
      " [ 0.00000000e+00  0.00000000e+00 -4.51848010e-15]\n",
      " [ 0.00000000e+00  0.00000000e+00  0.00000000e+00]]\n",
      "\n",
      "Least squares solution x:\n",
      "[1. 2. 3.]\n",
      "\n",
      "Transformed vector y:\n",
      "[-9.09648416e+01 -8.33052161e+00  0.00000000e+00  7.10542736e-15]\n",
      "\n",
      "Ground truth solution x:\n",
      "[-2.  8. -0.]\n"
     ]
    }
   ],
   "source": [
    "import numpy as np\n",
    "from scipy.linalg import qr\n",
    "\n",
    "# More complicated matrix A and vector b\n",
    "A = np.array([[1, 2, 3], [4, 5, 6], [7, 8, 10], [10, 11, 13]])\n",
    "b = np.array([14, 32, 50, 68])\n",
    "\n",
    "# QR decomposition\n",
    "Q, R = qr(A)\n",
    "\n",
    "# Least squares solution\n",
    "x_ls = np.linalg.lstsq(A, b, rcond=None)[0]\n",
    "\n",
    "print(\"Matrix A:\")\n",
    "print(A)\n",
    "print(\"\\nVector b:\")\n",
    "print(b)\n",
    "print(\"\\nMatrix Q:\")\n",
    "print(Q)\n",
    "print(\"\\nMatrix R:\")\n",
    "print(R)\n",
    "print(\"\\nLeast squares solution x:\")\n",
    "print(x_ls)\n",
    "\n",
    "y = Q.T @ b\n",
    "x_ground_truth = np.linalg.solve(R[:3, :3], y[:3])\n",
    "print(\"\\nTransformed vector y:\")\n",
    "print(y)\n",
    "print(\"\\nGround truth solution x:\")\n",
    "print(x_ground_truth)"
   ]
  },
  {
   "cell_type": "code",
   "execution_count": 9,
   "metadata": {},
   "outputs": [
    {
     "name": "stdout",
     "output_type": "stream",
     "text": [
      "\n",
      "Transformed vector y:\n",
      "[-9.09648416e+01 -8.33052161e+00  0.00000000e+00  7.10542736e-15]\n",
      "\n",
      "Ground truth solution x:\n",
      "[-2.  8. -0.]\n"
     ]
    }
   ],
   "source": [
    "\n",
    "y = Q.T @ b\n",
    "x_ground_truth = np.linalg.solve(R[:3, :3], y[:3])\n",
    "print(\"\\nTransformed vector y:\")\n",
    "print(y)\n",
    "print(\"\\nGround truth solution x:\")\n",
    "print(x_ground_truth)"
   ]
  },
  {
   "cell_type": "code",
   "execution_count": 14,
   "metadata": {},
   "outputs": [
    {
     "data": {
      "text/plain": [
       "array([1., 2., 3.])"
      ]
     },
     "execution_count": 14,
     "metadata": {},
     "output_type": "execute_result"
    }
   ],
   "source": [
    "x_ls = np.linalg.lstsq(A, b, rcond=None)[0]\n",
    "x_ls"
   ]
  },
  {
   "cell_type": "code",
   "execution_count": 17,
   "metadata": {},
   "outputs": [
    {
     "data": {
      "text/plain": [
       "array([14., 32., 50., 68.])"
      ]
     },
     "execution_count": 17,
     "metadata": {},
     "output_type": "execute_result"
    }
   ],
   "source": [
    "A @ x_ls  "
   ]
  },
  {
   "cell_type": "code",
   "execution_count": 18,
   "metadata": {},
   "outputs": [
    {
     "name": "stdout",
     "output_type": "stream",
     "text": [
      "Step 1: x[2] = -0.0\n",
      "Step 2: x[1] = 7.999999999999991\n",
      "Step 3: x[0] = -1.9999999999999907\n",
      "\n",
      "Solution x from back substitution:\n",
      "[-2.  8. -0.]\n"
     ]
    }
   ],
   "source": [
    "# Back substitution function\n",
    "def back_substitution(R, y):\n",
    "    n = len(y)\n",
    "    x = np.zeros_like(y)\n",
    "    for i in range(n-1, -1, -1):\n",
    "        x[i] = y[i]\n",
    "        for j in range(i+1, n):\n",
    "            x[i] -= R[i, j] * x[j]\n",
    "        x[i] /= R[i, i]\n",
    "        print(f\"Step {n-i}: x[{i}] = {x[i]}\")\n",
    "    return x\n",
    "\n",
    "# Perform back substitution\n",
    "x_back_sub = back_substitution(R[:3, :3], y[:3])\n",
    "print(\"\\nSolution x from back substitution:\")\n",
    "print(x_back_sub)"
   ]
  },
  {
   "cell_type": "code",
   "execution_count": 19,
   "metadata": {},
   "outputs": [
    {
     "data": {
      "text/plain": [
       "array([14., 32., 50., 68.])"
      ]
     },
     "execution_count": 19,
     "metadata": {},
     "output_type": "execute_result"
    }
   ],
   "source": [
    "x = [-2.,  8. , -0.]\n",
    "A @ x\n"
   ]
  },
  {
   "cell_type": "code",
   "execution_count": 20,
   "metadata": {},
   "outputs": [
    {
     "data": {
      "text/plain": [
       "array([14., 32., 50., 68.])"
      ]
     },
     "execution_count": 20,
     "metadata": {},
     "output_type": "execute_result"
    }
   ],
   "source": [
    "A @ x_ls"
   ]
  },
  {
   "cell_type": "code",
   "execution_count": null,
   "metadata": {},
   "outputs": [],
   "source": []
  }
 ],
 "metadata": {
  "kernelspec": {
   "display_name": "Python 3",
   "language": "python",
   "name": "python3"
  },
  "language_info": {
   "codemirror_mode": {
    "name": "ipython",
    "version": 3
   },
   "file_extension": ".py",
   "mimetype": "text/x-python",
   "name": "python",
   "nbconvert_exporter": "python",
   "pygments_lexer": "ipython3",
   "version": "3.9.6"
  }
 },
 "nbformat": 4,
 "nbformat_minor": 2
}
