{
 "cells": [
  {
   "cell_type": "code",
   "execution_count": 2,
   "metadata": {},
   "outputs": [
    {
     "name": "stdout",
     "output_type": "stream",
     "text": [
      "Matrix A:\n",
      "[[1 2]\n",
      " [3 4]\n",
      " [5 6]]\n",
      "\n",
      "Vector b:\n",
      "[7 8 9]\n",
      "\n",
      "Matrix Q:\n",
      "[[-0.16903085  0.89708523  0.40824829]\n",
      " [-0.50709255  0.27602622 -0.81649658]\n",
      " [-0.84515425 -0.34503278  0.40824829]]\n",
      "\n",
      "Matrix R:\n",
      "[[-5.91607978 -7.43735744]\n",
      " [ 0.          0.82807867]\n",
      " [ 0.          0.        ]]\n",
      "\n",
      "Least squares solution x:\n",
      "[-6.   6.5]\n"
     ]
    }
   ],
   "source": [
    "import numpy as np\n",
    "from scipy.linalg import qr\n",
    "\n",
    "# Example matrix A and vector b\n",
    "A = np.array([[1, 2], [3, 4], [5, 6]])\n",
    "b = np.array([7, 8, 9])\n",
    "\n",
    "# QR decomposition\n",
    "Q, R = qr(A)\n",
    "\n",
    "# Least squares solution\n",
    "x_ls = np.linalg.lstsq(A, b, rcond=None)[0]\n",
    "\n",
    "print(\"Matrix A:\")\n",
    "print(A)\n",
    "print(\"\\nVector b:\")\n",
    "print(b)\n",
    "print(\"\\nMatrix Q:\")\n",
    "print(Q)\n",
    "print(\"\\nMatrix R:\")\n",
    "print(R)\n",
    "print(\"\\nLeast squares solution x:\")\n",
    "print(x_ls)"
   ]
  },
  {
   "cell_type": "code",
   "execution_count": 21,
   "metadata": {},
   "outputs": [
    {
     "name": "stdout",
     "output_type": "stream",
     "text": [
      "Matrix A:\n",
      "[[ 1  2  3]\n",
      " [ 4  5  6]\n",
      " [ 7  8 10]\n",
      " [10 11 13]]\n",
      "\n",
      "Vector b:\n",
      "[14 32 50 68]\n",
      "\n",
      "Matrix Q:\n",
      "[[-0.07761505 -0.83305216 -0.2236068  -0.5       ]\n",
      " [-0.31046021 -0.45123659  0.67082039  0.5       ]\n",
      " [-0.54330537 -0.06942101 -0.67082039  0.5       ]\n",
      " [-0.77615053  0.31239456  0.2236068  -0.5       ]]\n",
      "\n",
      "Matrix R:\n",
      "[[-12.88409873 -14.59162988 -17.61861693]\n",
      " [  0.          -1.0413152   -1.83965686]\n",
      " [  0.           0.          -0.4472136 ]\n",
      " [  0.           0.           0.        ]]\n",
      "\n",
      "Least squares solution x:\n",
      "[-2.00000000e+00  8.00000000e+00 -1.72919885e-14]\n",
      "\n",
      "Transformed vector y:\n",
      "[-9.09648416e+01 -8.33052161e+00  7.10542736e-15  3.55271368e-15]\n",
      "\n",
      "Ground truth solution x:\n",
      "[-2.00000000e+00  8.00000000e+00 -1.58882186e-14]\n"
     ]
    }
   ],
   "source": [
    "import numpy as np\n",
    "from scipy.linalg import qr\n",
    "\n",
    "# More complicated matrix A and vector b\n",
    "A = np.array([[1, 2, 3], [4, 5, 6], [7, 8, 10], [10, 11, 13]])\n",
    "b = np.array([14, 32, 50, 68])\n",
    "\n",
    "# QR decomposition\n",
    "Q, R = qr(A)\n",
    "\n",
    "# Least squares solution\n",
    "x_ls = np.linalg.lstsq(A, b, rcond=None)[0]\n",
    "\n",
    "print(\"Matrix A:\")\n",
    "print(A)\n",
    "print(\"\\nVector b:\")\n",
    "print(b)\n",
    "print(\"\\nMatrix Q:\")\n",
    "print(Q)\n",
    "print(\"\\nMatrix R:\")\n",
    "print(R)\n",
    "print(\"\\nLeast squares solution x:\")\n",
    "print(x_ls)\n",
    "\n",
    "y = Q.T @ b\n",
    "x_ground_truth = np.linalg.solve(R[:3, :3], y[:3])\n",
    "print(\"\\nTransformed vector y:\")\n",
    "print(y)\n",
    "print(\"\\nGround truth solution x:\")\n",
    "print(x_ground_truth)"
   ]
  },
  {
   "cell_type": "code",
   "execution_count": 22,
   "metadata": {},
   "outputs": [
    {
     "name": "stdout",
     "output_type": "stream",
     "text": [
      "\n",
      "Transformed vector y:\n",
      "[-9.09648416e+01 -8.33052161e+00  7.10542736e-15  3.55271368e-15]\n",
      "\n",
      "Ground truth solution x:\n",
      "[-2.00000000e+00  8.00000000e+00 -1.58882186e-14]\n"
     ]
    }
   ],
   "source": [
    "\n",
    "y = Q.T @ b\n",
    "x_ground_truth = np.linalg.solve(R[:3, :3], y[:3])\n",
    "print(\"\\nTransformed vector y:\")\n",
    "print(y)\n",
    "print(\"\\nGround truth solution x:\")\n",
    "print(x_ground_truth)"
   ]
  },
  {
   "cell_type": "code",
   "execution_count": 23,
   "metadata": {},
   "outputs": [
    {
     "data": {
      "text/plain": [
       "array([-2.00000000e+00,  8.00000000e+00, -1.72919885e-14])"
      ]
     },
     "execution_count": 23,
     "metadata": {},
     "output_type": "execute_result"
    }
   ],
   "source": [
    "x_ls = np.linalg.lstsq(A, b, rcond=None)[0]\n",
    "x_ls"
   ]
  },
  {
   "cell_type": "code",
   "execution_count": 24,
   "metadata": {},
   "outputs": [
    {
     "data": {
      "text/plain": [
       "array([14., 32., 50., 68.])"
      ]
     },
     "execution_count": 24,
     "metadata": {},
     "output_type": "execute_result"
    }
   ],
   "source": [
    "A @ x_ls  "
   ]
  },
  {
   "cell_type": "code",
   "execution_count": 30,
   "metadata": {},
   "outputs": [
    {
     "name": "stdout",
     "output_type": "stream",
     "text": [
      "Step 1: x[2] = -1.588821858078257e-14\n",
      "Step 2: x[1] = 8.00000000000002\n",
      "Step 3: x[0] = -2.000000000000001\n",
      "\n",
      "Solution x from back substitution:\n",
      "[-2.00000000e+00  8.00000000e+00 -1.58882186e-14]\n"
     ]
    }
   ],
   "source": [
    "# Back substitution function\n",
    "def back_substitution(R, y):\n",
    "    n = len(y)\n",
    "    x = np.zeros_like(y)\n",
    "    for i in range(n-1, -1, -1):\n",
    "        x[i] = y[i]\n",
    "        for j in range(i+1, n):\n",
    "            x[i] -= R[i, j] * x[j]\n",
    "        x[i] /= R[i, i]\n",
    "        print(f\"Step {n-i}: x[{i}] = {x[i]}\")\n",
    "    return x\n",
    "\n",
    "# Perform back substitution\n",
    "x_back_sub = back_substitution(R[:3, :3], y[:3])\n",
    "print(\"\\nSolution x from back substitution:\")\n",
    "print(x_back_sub)"
   ]
  },
  {
   "cell_type": "code",
   "execution_count": 29,
   "metadata": {},
   "outputs": [
    {
     "data": {
      "text/plain": [
       "array([14., 32., 50., 68.])"
      ]
     },
     "execution_count": 29,
     "metadata": {},
     "output_type": "execute_result"
    }
   ],
   "source": [
    "x = [-2.,  8. , 0]\n",
    "A @ x\n"
   ]
  },
  {
   "cell_type": "code",
   "execution_count": 20,
   "metadata": {},
   "outputs": [
    {
     "data": {
      "text/plain": [
       "array([14., 32., 50., 68.])"
      ]
     },
     "execution_count": 20,
     "metadata": {},
     "output_type": "execute_result"
    }
   ],
   "source": [
    "A @ x_ls"
   ]
  },
  {
   "cell_type": "code",
   "execution_count": 31,
   "metadata": {},
   "outputs": [
    {
     "name": "stdout",
     "output_type": "stream",
     "text": [
      "Generated matrix A_large:\n",
      "[[0.39277139 0.56833825 0.74518497 ... 0.97199616 0.31833171 0.07698237]\n",
      " [0.95906024 0.6043671  0.33689803 ... 0.65326847 0.74779684 0.69989679]\n",
      " [0.37817717 0.32307346 0.05911778 ... 0.81209578 0.1510176  0.14338931]\n",
      " ...\n",
      " [0.12015686 0.6309248  0.68655598 ... 0.64126297 0.51579686 0.13964899]\n",
      " [0.59267698 0.53240495 0.20219841 ... 0.3777771  0.77141595 0.50394243]\n",
      " [0.62972001 0.93340826 0.43937479 ... 0.98968616 0.79582035 0.68881195]]\n",
      "\n",
      "Rank of A_large: 100\n"
     ]
    }
   ],
   "source": [
    "import numpy as np\n",
    "\n",
    "# Function to generate a large full rank matrix\n",
    "def generate_full_rank_matrix(rows, cols):\n",
    "    while True:\n",
    "        A = np.random.rand(rows, cols)\n",
    "        if np.linalg.matrix_rank(A) == min(rows, cols):\n",
    "            return A\n",
    "\n",
    "# Generate a large full rank matrix A with dimensions 100x100\n",
    "A_large = generate_full_rank_matrix(100, 100)\n",
    "print(\"Generated matrix A_large:\")\n",
    "print(A_large)\n",
    "print(\"\\nRank of A_large:\", np.linalg.matrix_rank(A_large))"
   ]
  },
  {
   "cell_type": "code",
   "execution_count": 36,
   "metadata": {},
   "outputs": [],
   "source": [
    "# Formulate Ax = b\n",
    "A = A_large\n",
    "# Generate corresponding b\n",
    "b = np.random.rand(100)\n",
    "# Generate corresponding Generate b corresponding b\n",
    "\n",
    "# QR decomposition\n",
    "Q, R = qr(A)\n",
    "\n",
    "# Least squares solution\n",
    "x_ls = np.linalg.lstsq(A, b, rcond=None)[0]\n"
   ]
  },
  {
   "cell_type": "code",
   "execution_count": 37,
   "metadata": {},
   "outputs": [
    {
     "data": {
      "text/plain": [
       "array([ 0.02376694,  0.13772428, -0.23288546,  0.44934196, -0.01189586,\n",
       "        0.55872784, -0.00592033, -0.61771007,  0.345865  , -0.16994033,\n",
       "       -0.55529745,  0.05344196,  0.39643376,  0.53120753, -0.44156878,\n",
       "        0.78994622,  0.58287553,  0.40072416, -0.56067571, -0.14930712,\n",
       "       -0.26004964, -0.04297613, -0.31128426,  0.09984143,  0.26747429,\n",
       "        0.01999254, -0.67766302, -0.12193662,  0.17071146,  0.13432589,\n",
       "       -0.24318214, -0.49924819,  0.04310104, -0.48477273,  0.57469251,\n",
       "        0.31910187, -0.0039459 , -0.23619324,  0.01731311,  0.19256007,\n",
       "        0.03320502, -0.18929815, -0.19777682, -0.71872023, -0.33487047,\n",
       "       -0.53272292, -0.69488945, -0.02319232,  0.14896215,  0.04948139,\n",
       "       -0.63806234, -0.11039234,  0.28304965,  0.36299366,  0.03239088,\n",
       "       -0.06172152, -0.42683294,  0.56573753, -0.33015597, -0.4962316 ,\n",
       "       -0.87281936,  0.5779338 ,  0.53873383, -0.30673663,  0.34313283,\n",
       "       -0.05662596,  0.43983733, -0.08724854,  0.14683028,  0.36400885,\n",
       "        0.06203729, -0.10987748, -0.14471988,  0.41713266,  0.07948464,\n",
       "        0.35779177, -0.263474  ,  0.08138795,  0.54459841,  0.51696866,\n",
       "        0.42351987,  0.13041499,  0.27551092, -0.08789469,  0.31411446,\n",
       "       -0.15972009, -0.43876198,  0.14992476,  0.05407405,  0.55849677,\n",
       "        0.28180665,  0.11800266,  0.1474439 , -0.21242949,  0.33823058,\n",
       "        0.13320039, -0.35810377, -0.31315118, -0.18915096,  0.01270231])"
      ]
     },
     "execution_count": 37,
     "metadata": {},
     "output_type": "execute_result"
    }
   ],
   "source": [
    "x_ls"
   ]
  },
  {
   "cell_type": "code",
   "execution_count": 38,
   "metadata": {},
   "outputs": [
    {
     "data": {
      "text/plain": [
       "array([[0.39277139, 0.56833825, 0.74518497, ..., 0.97199616, 0.31833171,\n",
       "        0.07698237],\n",
       "       [0.95906024, 0.6043671 , 0.33689803, ..., 0.65326847, 0.74779684,\n",
       "        0.69989679],\n",
       "       [0.37817717, 0.32307346, 0.05911778, ..., 0.81209578, 0.1510176 ,\n",
       "        0.14338931],\n",
       "       ...,\n",
       "       [0.12015686, 0.6309248 , 0.68655598, ..., 0.64126297, 0.51579686,\n",
       "        0.13964899],\n",
       "       [0.59267698, 0.53240495, 0.20219841, ..., 0.3777771 , 0.77141595,\n",
       "        0.50394243],\n",
       "       [0.62972001, 0.93340826, 0.43937479, ..., 0.98968616, 0.79582035,\n",
       "        0.68881195]])"
      ]
     },
     "execution_count": 38,
     "metadata": {},
     "output_type": "execute_result"
    }
   ],
   "source": [
    "A"
   ]
  },
  {
   "cell_type": "code",
   "execution_count": null,
   "metadata": {},
   "outputs": [],
   "source": []
  }
 ],
 "metadata": {
  "kernelspec": {
   "display_name": "Python 3",
   "language": "python",
   "name": "python3"
  },
  "language_info": {
   "codemirror_mode": {
    "name": "ipython",
    "version": 3
   },
   "file_extension": ".py",
   "mimetype": "text/x-python",
   "name": "python",
   "nbconvert_exporter": "python",
   "pygments_lexer": "ipython3",
   "version": "3.9.6"
  }
 },
 "nbformat": 4,
 "nbformat_minor": 2
}
